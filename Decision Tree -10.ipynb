{
 "cells": [
  {
   "cell_type": "markdown",
   "id": "7fa8982d",
   "metadata": {},
   "source": [
    "## Decision Tree\n",
    "\n",
    "#### Problem Statement: 1- Company_data\n",
    "#### A cloth manufacturing company is interested to know about the segment or attributes causes high sale. Approach - A decision tree can be built with target variable Sale (we will first convert it in categorical variable) & all other variable will be independent in the analysis.  \n"
   ]
  },
  {
   "cell_type": "code",
   "execution_count": null,
   "id": "4278f1fd",
   "metadata": {},
   "outputs": [],
   "source": [
    "import pandas as pd\n",
    "import numpy as np\n",
    "import matplotlib.pyplot as plt\n",
    "from sklearn import datasets\n",
    "from sklearn.model_selection import train_test_split\n",
    "from sklearn.tree import DecisionTreeClassifier\n",
    "from sklearn import tree\n",
    "from sklearn.metrics import classification_report\n",
    "from sklearn import preprocessing"
   ]
  },
  {
   "cell_type": "code",
   "execution_count": null,
   "id": "bbb7c55c",
   "metadata": {},
   "outputs": [],
   "source": [
    "data = pd.read_csv('Company_Data.csv')\n",
    "data"
   ]
  },
  {
   "cell_type": "code",
   "execution_count": null,
   "id": "b5a688de",
   "metadata": {},
   "outputs": [],
   "source": [
    "data.head()"
   ]
  },
  {
   "cell_type": "code",
   "execution_count": null,
   "id": "7e36daac",
   "metadata": {},
   "outputs": [],
   "source": [
    "data.describe()"
   ]
  },
  {
   "cell_type": "code",
   "execution_count": null,
   "id": "67be4c05",
   "metadata": {
    "scrolled": true
   },
   "outputs": [],
   "source": [
    "val=[]\n",
    "\n",
    "for value in data[\"Sales\"]:\n",
    "    if value <= 10:\n",
    "        val.append('0')\n",
    "        \n",
    "    else:\n",
    "        val.append('1')\n",
    "            \n",
    "data[\"Sales\"]= val\n",
    "\n"
   ]
  },
  {
   "cell_type": "code",
   "execution_count": null,
   "id": "393658e7",
   "metadata": {},
   "outputs": [],
   "source": [
    "data"
   ]
  },
  {
   "cell_type": "code",
   "execution_count": null,
   "id": "137dde9c",
   "metadata": {},
   "outputs": [],
   "source": [
    "data['Sales'].describe"
   ]
  },
  {
   "cell_type": "code",
   "execution_count": null,
   "id": "9d16c4cd",
   "metadata": {
    "scrolled": true
   },
   "outputs": [],
   "source": [
    "data['Sales'].value_counts()"
   ]
  },
  {
   "cell_type": "code",
   "execution_count": null,
   "id": "152606f1",
   "metadata": {},
   "outputs": [],
   "source": [
    "data1= pd.get_dummies(data, columns=['ShelveLoc', 'Urban', 'US'])\n",
    "data1"
   ]
  },
  {
   "cell_type": "code",
   "execution_count": null,
   "id": "a5be1e5b",
   "metadata": {},
   "outputs": [],
   "source": [
    "label_encoder = preprocessing.LabelEncoder()\n",
    "data1['Sales']= label_encoder.fit_transform(data1['Sales'])\n",
    "# encoding the Sales data with respect to entire dataset"
   ]
  },
  {
   "cell_type": "code",
   "execution_count": null,
   "id": "85b32c25",
   "metadata": {},
   "outputs": [],
   "source": [
    "X = data1.iloc[:, 1:14]\n",
    "y = data1['Sales']\n"
   ]
  },
  {
   "cell_type": "code",
   "execution_count": null,
   "id": "92727c2d",
   "metadata": {},
   "outputs": [],
   "source": [
    "X"
   ]
  },
  {
   "cell_type": "code",
   "execution_count": null,
   "id": "52c4ac08",
   "metadata": {},
   "outputs": [],
   "source": [
    "y"
   ]
  },
  {
   "cell_type": "code",
   "execution_count": null,
   "id": "d702de42",
   "metadata": {
    "scrolled": true
   },
   "outputs": [],
   "source": [
    "data1.columns"
   ]
  },
  {
   "cell_type": "code",
   "execution_count": null,
   "id": "330daf76",
   "metadata": {},
   "outputs": [],
   "source": [
    "# splitting the dataset into train and test data to create the model\n",
    "x_train, x_test, y_train, y_test = train_test_split(X,y,test_size=0.25, random_state=30)"
   ]
  },
  {
   "cell_type": "code",
   "execution_count": null,
   "id": "b3e9781e",
   "metadata": {},
   "outputs": [],
   "source": [
    "x_train"
   ]
  },
  {
   "cell_type": "code",
   "execution_count": null,
   "id": "14ab34aa",
   "metadata": {},
   "outputs": [],
   "source": [
    "y_train"
   ]
  },
  {
   "cell_type": "code",
   "execution_count": null,
   "id": "7d6a1288",
   "metadata": {},
   "outputs": [],
   "source": [
    "# Splitting the data into training and testing set\n",
    "x_train, x_test, y_train, y_test = train_test_split(X, y, test_size=0.25, random_state=10)"
   ]
  },
  {
   "cell_type": "code",
   "execution_count": null,
   "id": "5860c5d8",
   "metadata": {},
   "outputs": [],
   "source": [
    "x_train"
   ]
  },
  {
   "cell_type": "code",
   "execution_count": null,
   "id": "38473f03",
   "metadata": {},
   "outputs": [],
   "source": [
    "y_train"
   ]
  },
  {
   "cell_type": "markdown",
   "id": "c905bb6e",
   "metadata": {},
   "source": [
    "### Building Decision Tree Classifier Using entropy Criteria"
   ]
  },
  {
   "cell_type": "code",
   "execution_count": null,
   "id": "b248b2d3",
   "metadata": {},
   "outputs": [],
   "source": [
    "model = DecisionTreeClassifier(criterion = 'entropy', max_depth=3)\n",
    "model.fit(x_train,y_train)"
   ]
  },
  {
   "cell_type": "code",
   "execution_count": null,
   "id": "24ecf779",
   "metadata": {},
   "outputs": [],
   "source": [
    "\n",
    "tree.plot_tree(model, fontsize=6, filled='blue', impurity=bin);\n",
    "# decision tree plotted"
   ]
  },
  {
   "cell_type": "code",
   "execution_count": null,
   "id": "2dac009b",
   "metadata": {},
   "outputs": [],
   "source": [
    "y_train.value_counts()"
   ]
  },
  {
   "cell_type": "code",
   "execution_count": null,
   "id": "d4fb0af3",
   "metadata": {},
   "outputs": [],
   "source": [
    "fn=data1.columns\n",
    "fig, axes = plt.subplots(nrows = 1,ncols = 1,figsize = (4,4), dpi=300)\n",
    "tree.plot_tree(model,\n",
    "               feature_names = fn, \n",
    "               filled = True);"
   ]
  },
  {
   "cell_type": "code",
   "execution_count": null,
   "id": "6ca5a55f",
   "metadata": {},
   "outputs": [],
   "source": [
    "pred_train = model.predict(x_train)"
   ]
  },
  {
   "cell_type": "code",
   "execution_count": null,
   "id": "1afe28de",
   "metadata": {},
   "outputs": [],
   "source": [
    "preds = model.predict(x_test)\n",
    "pd.Series(preds).value_counts()"
   ]
  },
  {
   "cell_type": "code",
   "execution_count": null,
   "id": "886a887d",
   "metadata": {},
   "outputs": [],
   "source": [
    "y_test"
   ]
  },
  {
   "cell_type": "code",
   "execution_count": null,
   "id": "4ec1da85",
   "metadata": {},
   "outputs": [],
   "source": [
    "preds"
   ]
  },
  {
   "cell_type": "code",
   "execution_count": null,
   "id": "bff119a1",
   "metadata": {},
   "outputs": [],
   "source": [
    "pd.crosstab(y_test, preds)\n",
    "# two way table to understand correct and wrong predictions"
   ]
  },
  {
   "cell_type": "code",
   "execution_count": null,
   "id": "94d6b62e",
   "metadata": {},
   "outputs": [],
   "source": [
    "np.mean(preds==y_test)"
   ]
  },
  {
   "cell_type": "markdown",
   "id": "f2fc6cff",
   "metadata": {},
   "source": [
    "## Above shows a prediction accuracy of 80% which is ok"
   ]
  },
  {
   "cell_type": "markdown",
   "id": "aeb58f47",
   "metadata": {},
   "source": [
    "### It can be concluded that the model will have 80% accuracy using the entropy cirterion"
   ]
  },
  {
   "cell_type": "markdown",
   "id": "59a41422",
   "metadata": {},
   "source": [
    "## Problem 2: Use decision trees to prepare a model on fraud data treating those who have taxable_income <= 30000 as \"Risky\" and others are \"Good\""
   ]
  },
  {
   "cell_type": "code",
   "execution_count": null,
   "id": "583ca4c8",
   "metadata": {},
   "outputs": [],
   "source": [
    "chk = pd.read_csv('Fraud_check.csv')\n",
    "chk"
   ]
  },
  {
   "cell_type": "code",
   "execution_count": null,
   "id": "c1cc4a5f",
   "metadata": {},
   "outputs": [],
   "source": [
    "chk1= pd.get_dummies(chk, columns=['Undergrad', 'Marital.Status', 'Urban'])\n",
    "chk1"
   ]
  },
  {
   "cell_type": "code",
   "execution_count": null,
   "id": "283fde79",
   "metadata": {},
   "outputs": [],
   "source": [
    "trt=[]\n",
    "\n",
    "for value in chk1[\"Taxable.Income\"]:\n",
    "    if value <= 30000:\n",
    "        trt.append('risky')\n",
    "        \n",
    "    else:\n",
    "        trt.append('good')\n",
    "            \n",
    "chk1[\"Taxable.Income\"]= trt"
   ]
  },
  {
   "cell_type": "code",
   "execution_count": null,
   "id": "e155a66b",
   "metadata": {},
   "outputs": [],
   "source": [
    "label_encoder = preprocessing.LabelEncoder()\n",
    "chk1['Taxable.Income']= label_encoder.fit_transform(chk1['Taxable.Income']) "
   ]
  },
  {
   "cell_type": "code",
   "execution_count": null,
   "id": "df0ffa92",
   "metadata": {},
   "outputs": [],
   "source": [
    "chk1"
   ]
  },
  {
   "cell_type": "code",
   "execution_count": null,
   "id": "072004a2",
   "metadata": {},
   "outputs": [],
   "source": [
    "chk1['Taxable.Income'].value_counts()"
   ]
  },
  {
   "cell_type": "code",
   "execution_count": null,
   "id": "51392005",
   "metadata": {},
   "outputs": [],
   "source": [
    "chk1.iloc[:, 1:10]"
   ]
  },
  {
   "cell_type": "code",
   "execution_count": null,
   "id": "feaf07b4",
   "metadata": {},
   "outputs": [],
   "source": [
    "X = chk1.iloc[:, 1:10]\n",
    "y = chk1['Taxable.Income']"
   ]
  },
  {
   "cell_type": "code",
   "execution_count": null,
   "id": "40554aa3",
   "metadata": {},
   "outputs": [],
   "source": [
    "y.value_counts()"
   ]
  },
  {
   "cell_type": "code",
   "execution_count": null,
   "id": "e546dfb3",
   "metadata": {},
   "outputs": [],
   "source": [
    "chk1.columns"
   ]
  },
  {
   "cell_type": "code",
   "execution_count": null,
   "id": "6aa8564d",
   "metadata": {},
   "outputs": [],
   "source": [
    "x_train, x_test, y_train, y_test = train_test_split(X, y, test_size=0.25, random_state=40)\n",
    "# splitting the data into train and test"
   ]
  },
  {
   "cell_type": "code",
   "execution_count": null,
   "id": "2e323719",
   "metadata": {},
   "outputs": [],
   "source": [
    "x_train"
   ]
  },
  {
   "cell_type": "code",
   "execution_count": null,
   "id": "1ec2e5ef",
   "metadata": {},
   "outputs": [],
   "source": [
    "x_test"
   ]
  },
  {
   "cell_type": "code",
   "execution_count": null,
   "id": "7f62ee27",
   "metadata": {},
   "outputs": [],
   "source": [
    "y_train"
   ]
  },
  {
   "cell_type": "markdown",
   "id": "b8f79d97",
   "metadata": {},
   "source": [
    "## Building the Decision Tree Classifier using Entropy criteria"
   ]
  },
  {
   "cell_type": "code",
   "execution_count": null,
   "id": "46b74bde",
   "metadata": {},
   "outputs": [],
   "source": [
    "model = DecisionTreeClassifier(criterion='entropy', max_depth=5)\n",
    "model.fit(x_train, y_train)"
   ]
  },
  {
   "cell_type": "code",
   "execution_count": null,
   "id": "5e2b69ee",
   "metadata": {},
   "outputs": [],
   "source": [
    "# plotting the decisiontree for visuals\n",
    "tree.plot_tree(model, label=10);"
   ]
  },
  {
   "cell_type": "code",
   "execution_count": null,
   "id": "eee0037d",
   "metadata": {},
   "outputs": [],
   "source": [
    "y_train.value_counts()"
   ]
  },
  {
   "cell_type": "code",
   "execution_count": null,
   "id": "b181d0e9",
   "metadata": {},
   "outputs": [],
   "source": [
    "fn=chk1.columns\n",
    "fig, axes= plt.subplots(nrows = 1,ncols = 1,figsize = (8,3), dpi=330)\n",
    "tree.plot_tree(model,\n",
    "               feature_names = fn,\n",
    "               filled = True);"
   ]
  },
  {
   "cell_type": "code",
   "execution_count": null,
   "id": "b402dfea",
   "metadata": {},
   "outputs": [],
   "source": [
    "pred_train = model.predict(x_train)"
   ]
  },
  {
   "cell_type": "code",
   "execution_count": null,
   "id": "0c91f15c",
   "metadata": {},
   "outputs": [],
   "source": [
    "preds = model.predict(x_test) # predicting on the test data\n",
    "pd.Series(preds).value_counts()"
   ]
  },
  {
   "cell_type": "code",
   "execution_count": null,
   "id": "5a788b71",
   "metadata": {},
   "outputs": [],
   "source": [
    "y_test"
   ]
  },
  {
   "cell_type": "code",
   "execution_count": null,
   "id": "db629f55",
   "metadata": {},
   "outputs": [],
   "source": [
    "preds"
   ]
  },
  {
   "cell_type": "code",
   "execution_count": null,
   "id": "124a07fb",
   "metadata": {},
   "outputs": [],
   "source": [
    "pd.crosstab(y_test, preds)"
   ]
  },
  {
   "cell_type": "code",
   "execution_count": null,
   "id": "c26a7e58",
   "metadata": {},
   "outputs": [],
   "source": [
    "pred1= model.predict(x_test)"
   ]
  },
  {
   "cell_type": "code",
   "execution_count": null,
   "id": "704fa32f",
   "metadata": {},
   "outputs": [],
   "source": [
    "np.mean(pred1==y_test)"
   ]
  },
  {
   "cell_type": "markdown",
   "id": "fe449e91",
   "metadata": {},
   "source": [
    "### Using the Gini Criteria to check the model accuracy"
   ]
  },
  {
   "cell_type": "code",
   "execution_count": null,
   "id": "f416ea1b",
   "metadata": {
    "executionInfo": {
     "elapsed": 531,
     "status": "ok",
     "timestamp": 1625894157016,
     "user": {
      "displayName": "Jaspal Singh Jhass",
      "photoUrl": "",
      "userId": "14870781376371902378"
     },
     "user_tz": -330
    },
    "id": "GHjx_llXk6nf"
   },
   "outputs": [],
   "source": [
    "from sklearn.tree import DecisionTreeClassifier\n",
    "model_gini = DecisionTreeClassifier(criterion='gini', max_depth=3)"
   ]
  },
  {
   "cell_type": "code",
   "execution_count": null,
   "id": "68ba01a4",
   "metadata": {
    "colab": {
     "base_uri": "https://localhost:8080/"
    },
    "executionInfo": {
     "elapsed": 2,
     "status": "ok",
     "timestamp": 1625894157366,
     "user": {
      "displayName": "Jaspal Singh Jhass",
      "photoUrl": "",
      "userId": "14870781376371902378"
     },
     "user_tz": -330
    },
    "id": "CS3kyQZUk6nf",
    "outputId": "37d5e756-8870-4149-e0cc-5df8bb93146b",
    "scrolled": false
   },
   "outputs": [],
   "source": [
    "model_gini.fit(x_train, y_train)"
   ]
  },
  {
   "cell_type": "code",
   "execution_count": null,
   "id": "e0f43be5",
   "metadata": {
    "colab": {
     "base_uri": "https://localhost:8080/"
    },
    "executionInfo": {
     "elapsed": 348,
     "status": "ok",
     "timestamp": 1625894168242,
     "user": {
      "displayName": "Jaspal Singh Jhass",
      "photoUrl": "",
      "userId": "14870781376371902378"
     },
     "user_tz": -330
    },
    "id": "z0-yBc4Nk6ng",
    "outputId": "3818632f-7738-4384-c964-0e1351096b6f",
    "scrolled": true
   },
   "outputs": [],
   "source": [
    "#Prediction and computing the accuracy\n",
    "pred=model.predict(x_test)\n",
    "np.mean(pred1==y_test)"
   ]
  },
  {
   "cell_type": "markdown",
   "id": "af3cebe1",
   "metadata": {},
   "source": [
    "### It can be observed an increase using the gini criteria. Let us try to build the model using decision tree regression "
   ]
  },
  {
   "cell_type": "code",
   "execution_count": null,
   "id": "6056e60e",
   "metadata": {
    "executionInfo": {
     "elapsed": 379,
     "status": "ok",
     "timestamp": 1625894291175,
     "user": {
      "displayName": "Jaspal Singh Jhass",
      "photoUrl": "",
      "userId": "14870781376371902378"
     },
     "user_tz": -330
    },
    "id": "GZhCGqoDk6ng"
   },
   "outputs": [],
   "source": [
    "# Decision Tree Regression\n",
    "from sklearn.tree import DecisionTreeRegressor\n",
    "from sklearn.model_selection import cross_val_score"
   ]
  },
  {
   "cell_type": "code",
   "execution_count": null,
   "id": "51533b3a",
   "metadata": {
    "executionInfo": {
     "elapsed": 349,
     "status": "ok",
     "timestamp": 1625894301085,
     "user": {
      "displayName": "Jaspal Singh Jhass",
      "photoUrl": "",
      "userId": "14870781376371902378"
     },
     "user_tz": -330
    },
    "id": "Nu8JxuL9k6ng"
   },
   "outputs": [],
   "source": [
    "X = chk1.iloc[:, 1:10]\n",
    "y = chk1['Taxable.Income']"
   ]
  },
  {
   "cell_type": "code",
   "execution_count": null,
   "id": "99523f2a",
   "metadata": {
    "executionInfo": {
     "elapsed": 328,
     "status": "ok",
     "timestamp": 1625894391446,
     "user": {
      "displayName": "Jaspal Singh Jhass",
      "photoUrl": "",
      "userId": "14870781376371902378"
     },
     "user_tz": -330
    },
    "id": "7blNIDBek6ng"
   },
   "outputs": [],
   "source": [
    "X_train, X_test, y_train, y_test = train_test_split(X, y, test_size=0.33, random_state=1)"
   ]
  },
  {
   "cell_type": "code",
   "execution_count": null,
   "id": "cbbebeb5",
   "metadata": {
    "colab": {
     "base_uri": "https://localhost:8080/"
    },
    "executionInfo": {
     "elapsed": 4,
     "status": "ok",
     "timestamp": 1625894392851,
     "user": {
      "displayName": "Jaspal Singh Jhass",
      "photoUrl": "",
      "userId": "14870781376371902378"
     },
     "user_tz": -330
    },
    "id": "0D1VrCN9k6nh",
    "outputId": "f3373172-7fba-44f4-9613-7742e93e2cef"
   },
   "outputs": [],
   "source": [
    "model = DecisionTreeRegressor()\n",
    "model.fit(X_train, y_train)"
   ]
  },
  {
   "cell_type": "code",
   "execution_count": null,
   "id": "13909d67",
   "metadata": {
    "colab": {
     "base_uri": "https://localhost:8080/"
    },
    "executionInfo": {
     "elapsed": 331,
     "status": "ok",
     "timestamp": 1625894397211,
     "user": {
      "displayName": "Jaspal Singh Jhass",
      "photoUrl": "",
      "userId": "14870781376371902378"
     },
     "user_tz": -330
    },
    "id": "v-5XEg4pk6nh",
    "outputId": "32b8dc6a-7c87-4bc8-f4b2-c5246235c8c0"
   },
   "outputs": [],
   "source": [
    "#Find the accuracy\n",
    "model.score(X_test,y_test)"
   ]
  },
  {
   "cell_type": "markdown",
   "id": "18139d4a",
   "metadata": {},
   "source": [
    "### Decision Tree Regression cannot be used for this model and hence gini can be considered as the best model. "
   ]
  },
  {
   "cell_type": "code",
   "execution_count": null,
   "id": "a8dacec8",
   "metadata": {},
   "outputs": [],
   "source": []
  }
 ],
 "metadata": {
  "kernelspec": {
   "display_name": "Python 3 (ipykernel)",
   "language": "python",
   "name": "python3"
  },
  "language_info": {
   "codemirror_mode": {
    "name": "ipython",
    "version": 3
   },
   "file_extension": ".py",
   "mimetype": "text/x-python",
   "name": "python",
   "nbconvert_exporter": "python",
   "pygments_lexer": "ipython3",
   "version": "3.9.7"
  }
 },
 "nbformat": 4,
 "nbformat_minor": 5
}
